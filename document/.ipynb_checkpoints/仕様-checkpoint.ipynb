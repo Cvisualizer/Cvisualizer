{
 "cells": [
  {
   "cell_type": "markdown",
   "metadata": {
    "toc": "true"
   },
   "source": [
    "# Table of Contents\n",
    " <p><div class=\"lev1 toc-item\"><a href=\"#全体の構成\" data-toc-modified-id=\"全体の構成-1\"><span class=\"toc-item-num\">1&nbsp;&nbsp;</span>全体の構成</a></div><div class=\"lev1 toc-item\"><a href=\"#フローチャート\" data-toc-modified-id=\"フローチャート-2\"><span class=\"toc-item-num\">2&nbsp;&nbsp;</span>フローチャート</a></div>"
   ]
  },
  {
   "cell_type": "markdown",
   "metadata": {},
   "source": [
    "<strong>Cvisualizer仕様</strong>  \n",
    "Cvisualizerのバックエンドとフロントエンドのそれぞれの機能を決める"
   ]
  },
  {
   "cell_type": "markdown",
   "metadata": {},
   "source": [
    "# 全体の構成\n",
    "バックエンドはソースコードをASTに解析してJSON形式で送信する。\n",
    "それをブラウザが受け取り、インタプリタで実行していく。  \n",
    "可視化は各命令ごとに決まったアニメーションを関数で実装して、インタプリタ側で呼び出す。"
   ]
  },
  {
   "cell_type": "markdown",
   "metadata": {},
   "source": [
    "# フローチャート"
   ]
  }
 ],
 "metadata": {
  "anaconda-cloud": {},
  "kernelspec": {
   "display_name": "Python [Root]",
   "language": "python",
   "name": "Python [Root]"
  },
  "language_info": {
   "codemirror_mode": {
    "name": "ipython",
    "version": 2
   },
   "file_extension": ".py",
   "mimetype": "text/x-python",
   "name": "python",
   "nbconvert_exporter": "python",
   "pygments_lexer": "ipython2",
   "version": "2.7.12"
  },
  "toc": {
   "nav_menu": {
    "height": "48px",
    "width": "252px"
   },
   "navigate_menu": true,
   "number_sections": true,
   "sideBar": true,
   "threshold": 4,
   "toc_cell": true,
   "toc_section_display": "block",
   "toc_window_display": false
  }
 },
 "nbformat": 4,
 "nbformat_minor": 0
}
