{
 "cells": [
  {
   "cell_type": "markdown",
   "metadata": {
    "nbpresent": {
     "id": "5dcca194-8f2d-4a53-9ee6-fed818e9b4b1"
    },
    "toc": "true"
   },
   "source": [
    "# Table of Contents\n",
    " <p><div class=\"lev1 toc-item\"><a href=\"#全体の構成\" data-toc-modified-id=\"全体の構成-1\"><span class=\"toc-item-num\">1&nbsp;&nbsp;</span>全体の構成</a></div><div class=\"lev1 toc-item\"><a href=\"#フローチャート\" data-toc-modified-id=\"フローチャート-2\"><span class=\"toc-item-num\">2&nbsp;&nbsp;</span>フローチャート</a></div>"
   ]
  },
  {
   "cell_type": "markdown",
   "metadata": {
    "nbpresent": {
     "id": "d847fc3f-399e-4230-9b3e-925bd89b324d"
    }
   },
   "source": [
    "<strong>Cvisualizer仕様</strong>  \n",
    "Cvisualizerのバックエンドとフロントエンドのそれぞれの機能を決める"
   ]
  },
  {
   "cell_type": "markdown",
   "metadata": {
    "nbpresent": {
     "id": "1228b64e-135b-4de7-9b48-1b594892c815"
    }
   },
   "source": [
    "# 全体の構成\n",
    "バックエンドはソースコードをASTに解析してJSON形式で送信する。\n",
    "それをブラウザが受け取り、インタプリタで実行していく。  \n",
    "可視化は各命令ごとに決まったアニメーションを関数で実装して、インタプリタ側で呼び出す。"
   ]
  },
  {
   "cell_type": "markdown",
   "metadata": {
    "nbpresent": {
     "id": "40ee168d-21ff-4d76-95cf-3ea9a2eff344"
    }
   },
   "source": [
    "# フローチャート"
   ]
  }
 ],
 "metadata": {
  "anaconda-cloud": {},
  "kernelspec": {
   "display_name": "Python [Root]",
   "language": "python",
   "name": "Python [Root]"
  },
  "language_info": {
   "codemirror_mode": {
    "name": "ipython",
    "version": 2
   },
   "file_extension": ".py",
   "mimetype": "text/x-python",
   "name": "python",
   "nbconvert_exporter": "python",
   "pygments_lexer": "ipython2",
   "version": "2.7.12"
  },
  "nbpresent": {
   "slides": {
    "821e13db-3d26-4f86-a247-dc5fa7804bdf": {
     "id": "821e13db-3d26-4f86-a247-dc5fa7804bdf",
     "prev": "997b43e4-f02c-44fe-b35d-cb153779cbbb",
     "regions": {
      "96df335b-210d-4258-8b81-b2e0ec54fc68": {
       "attrs": {
        "height": 1,
        "width": 1,
        "x": 0,
        "y": 0
       },
       "content": {
        "cell": "d847fc3f-399e-4230-9b3e-925bd89b324d",
        "part": "whole"
       },
       "id": "96df335b-210d-4258-8b81-b2e0ec54fc68"
      }
     }
    },
    "997b43e4-f02c-44fe-b35d-cb153779cbbb": {
     "id": "997b43e4-f02c-44fe-b35d-cb153779cbbb",
     "prev": null,
     "regions": {
      "35c199af-3279-4204-8c75-b3dcb7809b13": {
       "attrs": {
        "height": 1,
        "width": 1,
        "x": 0,
        "y": 0
       },
       "content": {
        "cell": "5dcca194-8f2d-4a53-9ee6-fed818e9b4b1",
        "part": "whole"
       },
       "id": "35c199af-3279-4204-8c75-b3dcb7809b13"
      }
     }
    }
   },
   "themes": {
    "default": "6c1e431b-a1ab-4a6b-ac7e-b0dc7c42b5ae",
    "theme": {
     "6c1e431b-a1ab-4a6b-ac7e-b0dc7c42b5ae": {
      "backgrounds": {
       "backgroundColor": {
        "background-color": "backgroundColor",
        "id": "backgroundColor"
       }
      },
      "id": "6c1e431b-a1ab-4a6b-ac7e-b0dc7c42b5ae",
      "palette": {
       "backgroundColor": {
        "id": "backgroundColor",
        "rgb": [
         34,
         34,
         34
        ]
       },
       "headingColor": {
        "id": "headingColor",
        "rgb": [
         238,
         238,
         238
        ]
       },
       "linkColor": {
        "id": "linkColor",
        "rgb": [
         170,
         34,
         51
        ]
       },
       "mainColor": {
        "id": "mainColor",
        "rgb": [
         238,
         238,
         238
        ]
       }
      },
      "rules": {
       "a": {
        "color": "linkColor"
       },
       "h1": {
        "color": "headingColor",
        "font-family": "Ubuntu",
        "font-size": 7
       },
       "h2": {
        "color": "headingColor",
        "font-family": "Ubuntu",
        "font-size": 5
       },
       "h3": {
        "color": "headingColor",
        "font-family": "Ubuntu",
        "font-size": 3.75
       },
       "h4": {
        "color": "headingColor",
        "font-family": "Ubuntu",
        "font-size": 3
       },
       "h5": {
        "color": "headingColor",
        "font-family": "Ubuntu"
       },
       "h6": {
        "color": "headingColor",
        "font-family": "Ubuntu"
       },
       "h7": {
        "color": "headingColor",
        "font-family": "Ubuntu"
       },
       "li": {
        "color": "mainColor",
        "font-family": "Ubuntu",
        "font-size": 5
       },
       "p": {
        "color": "mainColor",
        "font-family": "Ubuntu",
        "font-size": 5
       }
      },
      "text-base": {
       "color": "mainColor",
       "font-family": "Ubuntu",
       "font-size": 5
      }
     }
    }
   }
  },
  "toc": {
   "nav_menu": {
    "height": "48px",
    "width": "252px"
   },
   "navigate_menu": true,
   "number_sections": true,
   "sideBar": true,
   "threshold": 4,
   "toc_cell": true,
   "toc_section_display": "block",
   "toc_window_display": false
  }
 },
 "nbformat": 4,
 "nbformat_minor": 0
}
